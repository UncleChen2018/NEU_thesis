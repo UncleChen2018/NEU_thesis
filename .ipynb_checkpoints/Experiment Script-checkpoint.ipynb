{
 "cells": [
  {
   "cell_type": "markdown",
   "id": "8f5d1979-f1d1-4915-b2f9-c62de5a70b1e",
   "metadata": {},
   "source": [
    "# Script"
   ]
  },
  {
   "cell_type": "code",
   "execution_count": 9,
   "id": "f1808f56-78d9-4b39-9641-54605578196b",
   "metadata": {},
   "outputs": [],
   "source": [
    "import os\n",
    "import numpy as np\n",
    "import pandas as pd\n",
    "import importlib\n",
    "import zstandard as zstd\n",
    "import matplotlib.pyplot as plt\n",
    "from chronos_utils import (\n",
    "    rolling_forecast_and_reconstruct,\n",
    "    compute_error_metrics,\n",
    "    plot_error_distribution,\n",
    "    plot_time_series_with_forecast,\n",
    "    decompress_to_csv,\n",
    "    check_data_valid,\n",
    "    check_file_valid,\n",
    "    compress_to_file,\n",
    "    decompress_to_mem,\n",
    "    compress_to_file_debug,\n",
    "    LinearQuantizer,\n",
    "    decompress_data\n",
    ")\n",
    "\n",
    "import numpy as np\n",
    "import zstandard as zstd\n",
    "\n",
    "def naive_compress_with_zstd(data, EB):\n",
    "\n",
    "    # Perform naive quantization\n",
    "    naive_quantile = ((data / EB).astype('int64') * EB).astype('float32')\n",
    "\n",
    "    # Check if quantization is within acceptable limits (Optional, for validation)\n",
    "    is_close = np.allclose(naive_quantile, data, atol=EB)\n",
    "    if not is_close:\n",
    "        print(f\"All elements in naive zstd are not within the error bound ({EB}): {is_close}\")\n",
    "\n",
    "    # Compress the data using zstandard with a high compression level\n",
    "    compressor = zstd.ZstdCompressor(level=22)\n",
    "    compressed_data = compressor.compress(naive_quantile.tobytes())\n",
    "\n",
    "    return len(compressed_data)\n",
    "\n",
    "import numpy as np\n",
    "import os\n",
    "import subprocess\n",
    "\n",
    "def compress_with_sz3(array, EB, verbose=False):\n",
    "    # Write the bytes to a binary file\n",
    "    temp_input_filename = 'sz_temp.bin'\n",
    "    temp_output_filename = 'sz_temp.bin.sz'\n",
    "    \n",
    "    # Convert the numpy array to bytes and write to file\n",
    "    array.tofile(temp_input_filename)\n",
    "    \n",
    "    # Prepare the SZ3 command based on the dtype of the array\n",
    "    if array.dtype == np.float32:\n",
    "        dtype_flag = '-f'\n",
    "    elif array.dtype == np.float64:\n",
    "        dtype_flag = '-d'\n",
    "    elif array.dtype == np.int32:\n",
    "        dtype_flag = '-I 32'\n",
    "    elif array.dtype == np.int64:\n",
    "        dtype_flag = '-I 64'\n",
    "    else:\n",
    "        raise ValueError(\"Unsupported data type for SZ3 compression\")\n",
    "\n",
    "    # Construct the command\n",
    "    command = f\"./sz3 {dtype_flag} -i {temp_input_filename} -z {temp_output_filename} -1 {array.size} -M ABS {EB}\"\n",
    "    \n",
    "    # Execute the command with or without output\n",
    "    if verbose:\n",
    "        print(\"Executing command:\", command)\n",
    "        subprocess.run(command, shell=True, check=True)\n",
    "    else:\n",
    "        subprocess.run(command, shell=True, check=True, stdout=subprocess.DEVNULL, stderr=subprocess.DEVNULL)\n",
    "    \n",
    "    # Get the size of the compressed file\n",
    "    compressed_size = os.path.getsize(temp_output_filename)\n",
    "    \n",
    "    # Remove the temporary files\n",
    "    os.remove(temp_input_filename)\n",
    "    os.remove(temp_output_filename)\n",
    "    \n",
    "    return compressed_size\n",
    "\n",
    "\n",
    "def compress_array_with_zstd(array):\n",
    "    \"\"\" Compresses a numpy array using Zstandard and returns the size of the compressed data. \"\"\"\n",
    "    compressor = zstd.ZstdCompressor(level=22)\n",
    "    # Convert the numpy array to bytes and compress\n",
    "    compressed_data = compressor.compress(array.tobytes())\n",
    "    return len(compressed_data)\n",
    "\n",
    "\n",
    "def calculate_entropy_with_scipy(data):\n",
    "    # Count the frequency of each unique value\n",
    "    values, counts = np.unique(data, return_counts=True)\n",
    "    # Calculate the entropy using scipy.stats.entropy\n",
    "    return entropy(counts, base=2)\n",
    "\n",
    "\n",
    "\n",
    "import numpy as np\n",
    "\n",
    "def calculate_rrmse(error, actual):\n",
    "    mean_actual = np.mean(actual)\n",
    "    if mean_actual == 0:\n",
    "        return float('inf')\n",
    "    squared_relative_errors = (error / mean_actual) ** 2\n",
    "    return np.sqrt(np.mean(squared_relative_errors))\n",
    "\n",
    "def calculate_rmse(error, actual):\n",
    "    mean_actual = np.mean(actual)\n",
    "    if mean_actual == 0:\n",
    "        return float('inf')\n",
    "    squared_relative_errors = (error / mean_actual) ** 2\n",
    "    return np.mean(squared_relative_errors)\n",
    "\n",
    "def calculate_rmae(error, actual):\n",
    "    mean_actual = np.mean(actual)\n",
    "    if mean_actual == 0:\n",
    "        return float('inf')\n",
    "    absolute_relative_errors = np.abs(error / mean_actual)\n",
    "    return np.sqrt(np.mean(absolute_relative_errors))\n",
    "\n"
   ]
  },
  {
   "cell_type": "code",
   "execution_count": 10,
   "id": "f5263854-3832-4c4c-b8b4-4d3f2577c121",
   "metadata": {},
   "outputs": [],
   "source": [
    "import os\n",
    "import numpy as np\n",
    "import time\n",
    "\n",
    "\n",
    "# Define constants\n",
    "DATA_FOLDER = 'experiment_export_data'\n",
    "BIN_FOLDER = 'bin_data'\n",
    "COMPRESSED_FOLDER = 'compressed_data'\n",
    "\n",
    "# Ensure directories exist\n",
    "os.makedirs(DATA_FOLDER, exist_ok=True)\n",
    "os.makedirs(BIN_FOLDER, exist_ok=True)\n",
    "os.makedirs(COMPRESSED_FOLDER, exist_ok=True)\n",
    "\n",
    "import numpy as np\n",
    "import os\n",
    "import time\n",
    "from scipy.stats import entropy\n",
    "\n",
    "import numpy as np\n",
    "import os\n",
    "import time\n",
    "from scipy.stats import entropy\n",
    "\n",
    "def perform_compression_tests(data_file, CTX, PDT, EB, model, test_len=None, single_mode=True):\n",
    "\n",
    "    bin_file = f\"{BIN_FOLDER}/{data_file}.bin\"\n",
    "    csv_file = f\"{DATA_FOLDER}/{data_file}.csv\"\n",
    "    unique_name = f\"{data_file}_model{model}_EB{str(EB)}_CTX{CTX}_PDT{PDT}.tar.gz\"\n",
    "    compressed_file = f\"{COMPRESSED_FOLDER}/{unique_name}\"\n",
    "\n",
    "    try:\n",
    "        df = np.fromfile(bin_file, dtype=np.float32)\n",
    "        if test_len is not None:\n",
    "            df = df[:test_len]\n",
    "\n",
    "        # Begin compression testing\n",
    "        start_time = time.time()\n",
    "        sz3_size = compress_with_sz3(df, EB)\n",
    "        mid_time = time.time()\n",
    "        zstd_size = naive_compress_with_zstd(df, EB)\n",
    "        end_time = time.time()\n",
    "\n",
    "        compression_time_sz3 = mid_time - start_time\n",
    "        compression_time_zstd = end_time - mid_time\n",
    "\n",
    "        # Debug compression\n",
    "        start_time = time.time()\n",
    "        forecast, error = compress_to_file_debug(df, compressed_file, CTX, PDT, EB, model)\n",
    "        mid_time = time.time()\n",
    "        \n",
    "        decompression_time = 0\n",
    "        if not single_mode:\n",
    "            de_data, prediction, context, recovered_error = decompress_to_mem(compressed_file)\n",
    "            end_time = time.time()\n",
    "            decompression_time = end_time - mid_time\n",
    "  \n",
    "\n",
    "        compression_time_debug = mid_time - start_time\n",
    "  \n",
    "\n",
    "        # Calculate additional metrics\n",
    "        df_segment = df[CTX:]\n",
    "        df_entropy = calculate_entropy_with_scipy(df_segment)\n",
    "        df_min = np.min(df_segment)\n",
    "        df_max = np.max(df_segment)\n",
    "        df_mean = np.mean(df_segment)\n",
    "        df_variance = np.var(df_segment)\n",
    "\n",
    "        error_entropy = calculate_entropy_with_scipy(error)\n",
    "        error_min = np.min(error)\n",
    "        error_max = np.max(error)\n",
    "        error_mean = np.mean(error)\n",
    "        error_variance = np.var(error)\n",
    "\n",
    "        mean_absolute_error = np.mean(np.abs(error - df_segment))\n",
    "        mean_squared_error = np.mean((error - df_segment)**2)\n",
    "\n",
    "        rrmse = calculate_rrmse(error, df_segment)\n",
    "        rmse = calculate_rmse(error, df_segment)\n",
    "        rmae = calculate_rmae(error, df_segment)\n",
    "\n",
    "        # File sizes for comparison\n",
    "        csv_size = os.path.getsize(csv_file)\n",
    "        bin_size = os.path.getsize(bin_file)\n",
    "        fm_size = os.path.getsize(compressed_file)\n",
    "\n",
    "        # File size for the error vs use our multi-scale way\n",
    "        zstd_error_size = compress_array_with_zstd(error)        \n",
    "        \n",
    "\n",
    "        # Data accuracy check\n",
    "        is_accurate = np.allclose(de_data, df, atol=EB) if not single_mode else None\n",
    "        \n",
    "\n",
    "        # Consolidate all results into a dictionary with clearly named keys\n",
    "        results = {\n",
    "            \"Data File\": data_file,\n",
    "            \"Model\": model,\n",
    "            \"EB\": EB,\n",
    "            \"CTX\": CTX,\n",
    "            \"PDT\": PDT,\n",
    "            \"Success\": True,\n",
    "            \"Error Message\": '',\n",
    "            \"csv_size\": csv_size,\n",
    "            \"bin_size\": bin_size,\n",
    "            \"compressed_size\": fm_size,\n",
    "            \"sz3_size\": sz3_size,\n",
    "            \"zstd_size\": zstd_size,\n",
    "            \"is_accurate\": is_accurate,\n",
    "            \"compression_time_sz3\": compression_time_sz3,\n",
    "            \"compression_time_zstd\": compression_time_zstd,\n",
    "            \"compression_time_debug\": compression_time_debug,\n",
    "            \"decompression_time\": decompression_time,\n",
    "            \"zstd_error_size\": zstd_error_size,\n",
    "            \"df_entropy\": df_entropy,\n",
    "            \"df_min\": df_min,\n",
    "            \"df_max\": df_max,\n",
    "            \"df_mean\": df_mean,\n",
    "            \"df_variance\": df_variance,\n",
    "            \"error_entropy\": error_entropy,\n",
    "            \"error_min\": error_min,\n",
    "            \"error_max\": error_max,\n",
    "            \"error_mean\": error_mean,\n",
    "            \"error_variance\": error_variance,\n",
    "            \"mean_absolute_error\": mean_absolute_error,\n",
    "            \"mean_squared_error\": mean_squared_error,\n",
    "            \"RRMSE\": rrmse,\n",
    "            \"RMSE\": rmse,\n",
    "            \"RMAE\": rmae\n",
    "        }\n",
    "        return results\n",
    "\n",
    "    except Exception as e:\n",
    "        # Fallback for all fields if an exception occurs\n",
    "        error_details = {\n",
    "            \"Data File\": data_file,\n",
    "            \"Model\": model,\n",
    "            \"EB\": EB,\n",
    "            \"CTX\": CTX,\n",
    "            \"PDT\": PDT,\n",
    "            \"Success\": False,\n",
    "            \"Error Message\": str(e),\n",
    "            # Set all additional data fields to None\n",
    "            \"csv_size\": None,\n",
    "            \"bin_size\": None,\n",
    "            \"compressed_size\": None,\n",
    "            \"sz3_size\": None,\n",
    "            \"zstd_size\": None,\n",
    "            \"is_accurate\": None,\n",
    "            \"compression_time_sz3\": None,\n",
    "            \"compression_time_zstd\": None,\n",
    "            \"compression_time_debug\": None,\n",
    "            \"decompression_time\": None,\n",
    "            \"zstd_error_size\": None,\n",
    "            \"df_entropy\": None,\n",
    "            \"df_min\": None,\n",
    "            \"df_max\": None,\n",
    "            \"df_mean\": None,\n",
    "            \"df_variance\": None,\n",
    "            \"error_entropy\": None,\n",
    "            \"error_min\": None,\n",
    "            \"error_max\": None,\n",
    "            \"error_mean\": None,\n",
    "            \"error_variance\": None,\n",
    "            \"mean_absolute_error\": None,\n",
    "            \"mean_squared_error\": None,\n",
    "            \"RRMSE\": None,\n",
    "            \"RMSE\": None,\n",
    "            \"RMAE\": None\n",
    "        }\n",
    "        return error_details"
   ]
  },
  {
   "cell_type": "code",
   "execution_count": 11,
   "id": "f25d282d-da36-4c06-aea5-4331127f4176",
   "metadata": {},
   "outputs": [],
   "source": [
    "\n",
    "import pandas as pd\n",
    "import os\n",
    "\n",
    "def run_experiments(data_with_precision, models, EB_values, CTX_values, PDT_values, test_len=None, results_file_path=\"compression_results.csv\", create_new_file=False,single_mode=True):\n",
    " \n",
    "    standard_columns = [\n",
    "    'Data File', 'Model', 'EB', 'CTX', 'PDT', 'Success', 'Error Message',\n",
    "    'csv_size', 'bin_size', 'compressed_size', 'sz3_size', 'zstd_size', \n",
    "    'is_accurate', 'compression_time_sz3', 'compression_time_zstd', \n",
    "    'compression_time_debug', 'decompression_time', 'zstd_error_size', \n",
    "    'df_entropy', 'df_min', 'df_max', 'df_mean', 'df_variance', \n",
    "    'error_entropy', 'error_min', 'error_max', 'error_mean', \n",
    "    'error_variance', 'mean_absolute_error', 'mean_squared_error', \n",
    "    'RRMSE', 'RMSE', 'RMAE']\n",
    "\n",
    "\n",
    "    if create_new_file or not os.path.exists(results_file_path):\n",
    "        pd.DataFrame(columns=standard_columns).to_csv(results_file_path, index=False)\n",
    "    \n",
    "    results_df = pd.read_csv(results_file_path) if not create_new_file else pd.DataFrame(columns=standard_columns)\n",
    "\n",
    "    for data_file, mcp in data_with_precision:\n",
    "        for EB in EB_values:\n",
    "            if EB <= 10 ** -mcp:\n",
    "                print(f\"Skipping: {data_file} with EB: {EB} no greater than MCP limit (10^-{mcp})\")\n",
    "                continue\n",
    "            for CTX in CTX_values:\n",
    "                for PDT in PDT_values:\n",
    "                    if PDT > CTX:\n",
    "                        print(f\"Skipping: {data_file} with PDT: {PDT} greater than CTX: {CTX}\")\n",
    "                        continue\n",
    "                    for model in models:\n",
    "                        if experiment_already_run(data_file, model, EB, CTX, PDT, results_df):\n",
    "                            print(f\"Skipping already completed experiment: {data_file} with Model: {model}, EB: {EB}, CTX: {CTX}, PDT: {PDT}\")\n",
    "                            continue\n",
    "                        print(f\"Testing {data_file} with Model: {model}, EB: {EB}, CTX: {CTX}, PDT: {PDT}\")\n",
    "                        result = perform_compression_tests(data_file, CTX, PDT, EB, model, test_len,single_mode)\n",
    "                        pd.DataFrame([result]).to_csv(results_file_path, mode='a', header=False, index=False)\n",
    "\n",
    "    print(\"All experiments are done and results are saved.\")\n",
    "\n",
    "def experiment_already_run(data_file, model, EB, CTX, PDT, results_df):\n",
    "    \"\"\" Check if the experiment configuration has already been tested and recorded. \"\"\"\n",
    "    return ((results_df['Data File'] == data_file) & \n",
    "            (results_df['Model'] == model) &\n",
    "            (results_df['EB'] == EB) &\n",
    "            (results_df['CTX'] == CTX) &\n",
    "            (results_df['PDT'] == PDT)).any()\n"
   ]
  },
  {
   "cell_type": "code",
   "execution_count": 12,
   "id": "ad8bd6b8-5ae0-47a9-8628-1a3de02daf80",
   "metadata": {},
   "outputs": [
    {
     "name": "stdout",
     "output_type": "stream",
     "text": [
      "Skipping already completed experiment: elf with Model: 0, EB: 0.1, CTX: 16, PDT: 1\n",
      "Skipping already completed experiment: elf with Model: 0, EB: 0.1, CTX: 16, PDT: 2\n",
      "Skipping already completed experiment: elf with Model: 0, EB: 0.1, CTX: 16, PDT: 4\n",
      "Skipping already completed experiment: elf with Model: 0, EB: 0.1, CTX: 16, PDT: 8\n",
      "Skipping already completed experiment: elf with Model: 0, EB: 0.1, CTX: 16, PDT: 16\n",
      "Skipping: elf with PDT: 32 greater than CTX: 16\n",
      "Skipping already completed experiment: elf with Model: 0, EB: 0.1, CTX: 32, PDT: 1\n",
      "Skipping already completed experiment: elf with Model: 0, EB: 0.1, CTX: 32, PDT: 2\n",
      "Skipping already completed experiment: elf with Model: 0, EB: 0.1, CTX: 32, PDT: 4\n",
      "Skipping already completed experiment: elf with Model: 0, EB: 0.1, CTX: 32, PDT: 8\n",
      "Skipping already completed experiment: elf with Model: 0, EB: 0.1, CTX: 32, PDT: 16\n",
      "Skipping already completed experiment: elf with Model: 0, EB: 0.1, CTX: 32, PDT: 32\n",
      "Skipping already completed experiment: elf with Model: 0, EB: 0.1, CTX: 64, PDT: 1\n",
      "Skipping already completed experiment: elf with Model: 0, EB: 0.1, CTX: 64, PDT: 2\n",
      "Skipping already completed experiment: elf with Model: 0, EB: 0.1, CTX: 64, PDT: 4\n",
      "Skipping already completed experiment: elf with Model: 0, EB: 0.1, CTX: 64, PDT: 8\n",
      "Skipping already completed experiment: elf with Model: 0, EB: 0.1, CTX: 64, PDT: 16\n",
      "Skipping already completed experiment: elf with Model: 0, EB: 0.1, CTX: 64, PDT: 32\n",
      "Skipping already completed experiment: elf with Model: 0, EB: 0.1, CTX: 128, PDT: 1\n",
      "Skipping already completed experiment: elf with Model: 0, EB: 0.1, CTX: 128, PDT: 2\n",
      "Skipping already completed experiment: elf with Model: 0, EB: 0.1, CTX: 128, PDT: 4\n",
      "Skipping already completed experiment: elf with Model: 0, EB: 0.1, CTX: 128, PDT: 8\n",
      "Skipping already completed experiment: elf with Model: 0, EB: 0.1, CTX: 128, PDT: 16\n",
      "Skipping already completed experiment: elf with Model: 0, EB: 0.1, CTX: 128, PDT: 32\n",
      "Skipping already completed experiment: elf with Model: 0, EB: 0.1, CTX: 256, PDT: 1\n",
      "Skipping already completed experiment: elf with Model: 0, EB: 0.1, CTX: 256, PDT: 2\n",
      "Skipping already completed experiment: elf with Model: 0, EB: 0.1, CTX: 256, PDT: 4\n",
      "Skipping already completed experiment: elf with Model: 0, EB: 0.1, CTX: 256, PDT: 8\n",
      "Skipping already completed experiment: elf with Model: 0, EB: 0.1, CTX: 256, PDT: 16\n",
      "Skipping already completed experiment: elf with Model: 0, EB: 0.1, CTX: 256, PDT: 32\n",
      "Skipping already completed experiment: elf with Model: 0, EB: 0.1, CTX: 512, PDT: 1\n",
      "Skipping already completed experiment: elf with Model: 0, EB: 0.1, CTX: 512, PDT: 2\n",
      "Skipping already completed experiment: elf with Model: 0, EB: 0.1, CTX: 512, PDT: 4\n",
      "Skipping already completed experiment: elf with Model: 0, EB: 0.1, CTX: 512, PDT: 8\n",
      "Skipping already completed experiment: elf with Model: 0, EB: 0.1, CTX: 512, PDT: 16\n",
      "Skipping already completed experiment: elf with Model: 0, EB: 0.1, CTX: 512, PDT: 32\n",
      "Skipping already completed experiment: elf with Model: 0, EB: 0.01, CTX: 16, PDT: 1\n",
      "Skipping already completed experiment: elf with Model: 0, EB: 0.01, CTX: 16, PDT: 2\n",
      "Skipping already completed experiment: elf with Model: 0, EB: 0.01, CTX: 16, PDT: 4\n",
      "Skipping already completed experiment: elf with Model: 0, EB: 0.01, CTX: 16, PDT: 8\n",
      "Skipping already completed experiment: elf with Model: 0, EB: 0.01, CTX: 16, PDT: 16\n",
      "Skipping: elf with PDT: 32 greater than CTX: 16\n",
      "Skipping already completed experiment: elf with Model: 0, EB: 0.01, CTX: 32, PDT: 1\n",
      "Skipping already completed experiment: elf with Model: 0, EB: 0.01, CTX: 32, PDT: 2\n",
      "Skipping already completed experiment: elf with Model: 0, EB: 0.01, CTX: 32, PDT: 4\n",
      "Skipping already completed experiment: elf with Model: 0, EB: 0.01, CTX: 32, PDT: 8\n",
      "Skipping already completed experiment: elf with Model: 0, EB: 0.01, CTX: 32, PDT: 16\n",
      "Skipping already completed experiment: elf with Model: 0, EB: 0.01, CTX: 32, PDT: 32\n",
      "Skipping already completed experiment: elf with Model: 0, EB: 0.01, CTX: 64, PDT: 1\n",
      "Skipping already completed experiment: elf with Model: 0, EB: 0.01, CTX: 64, PDT: 2\n",
      "Skipping already completed experiment: elf with Model: 0, EB: 0.01, CTX: 64, PDT: 4\n",
      "Skipping already completed experiment: elf with Model: 0, EB: 0.01, CTX: 64, PDT: 8\n",
      "Skipping already completed experiment: elf with Model: 0, EB: 0.01, CTX: 64, PDT: 16\n",
      "Skipping already completed experiment: elf with Model: 0, EB: 0.01, CTX: 64, PDT: 32\n",
      "Skipping already completed experiment: elf with Model: 0, EB: 0.01, CTX: 128, PDT: 1\n",
      "Skipping already completed experiment: elf with Model: 0, EB: 0.01, CTX: 128, PDT: 2\n",
      "Skipping already completed experiment: elf with Model: 0, EB: 0.01, CTX: 128, PDT: 4\n",
      "Skipping already completed experiment: elf with Model: 0, EB: 0.01, CTX: 128, PDT: 8\n",
      "Skipping already completed experiment: elf with Model: 0, EB: 0.01, CTX: 128, PDT: 16\n",
      "Skipping already completed experiment: elf with Model: 0, EB: 0.01, CTX: 128, PDT: 32\n",
      "Skipping already completed experiment: elf with Model: 0, EB: 0.01, CTX: 256, PDT: 1\n",
      "Skipping already completed experiment: elf with Model: 0, EB: 0.01, CTX: 256, PDT: 2\n",
      "Skipping already completed experiment: elf with Model: 0, EB: 0.01, CTX: 256, PDT: 4\n",
      "Skipping already completed experiment: elf with Model: 0, EB: 0.01, CTX: 256, PDT: 8\n",
      "Testing elf with Model: 0, EB: 0.01, CTX: 256, PDT: 16\n"
     ]
    },
    {
     "data": {
      "application/vnd.jupyter.widget-view+json": {
       "model_id": "e89d6afbef01407cb05ba0bedb4c510e",
       "version_major": 2,
       "version_minor": 0
      },
      "text/plain": [
       "compress processing:   0%|          | 0/1346 [00:00<?, ?step/s]"
      ]
     },
     "metadata": {},
     "output_type": "display_data"
    },
    {
     "name": "stdout",
     "output_type": "stream",
     "text": [
      "Compression ratio: 2.15\n",
      "Testing elf with Model: 0, EB: 0.01, CTX: 256, PDT: 32\n"
     ]
    },
    {
     "data": {
      "application/vnd.jupyter.widget-view+json": {
       "model_id": "8735b5767bfe410698d1ca9058fff9c2",
       "version_major": 2,
       "version_minor": 0
      },
      "text/plain": [
       "compress processing:   0%|          | 0/673 [00:00<?, ?step/s]"
      ]
     },
     "metadata": {},
     "output_type": "display_data"
    },
    {
     "name": "stdout",
     "output_type": "stream",
     "text": [
      "Compression ratio: 2.13\n",
      "Testing elf with Model: 0, EB: 0.01, CTX: 512, PDT: 1\n"
     ]
    },
    {
     "data": {
      "application/vnd.jupyter.widget-view+json": {
       "model_id": "902740a659c94dddbd57caafeaba2919",
       "version_major": 2,
       "version_minor": 0
      },
      "text/plain": [
       "compress processing:   0%|          | 0/21280 [00:00<?, ?step/s]"
      ]
     },
     "metadata": {},
     "output_type": "display_data"
    },
    {
     "name": "stdout",
     "output_type": "stream",
     "text": [
      "Compression ratio: 2.25\n",
      "Testing elf with Model: 0, EB: 0.01, CTX: 512, PDT: 2\n"
     ]
    },
    {
     "data": {
      "application/vnd.jupyter.widget-view+json": {
       "model_id": "a1aeda597c0d4a879c8542fd461adea6",
       "version_major": 2,
       "version_minor": 0
      },
      "text/plain": [
       "compress processing:   0%|          | 0/10640 [00:00<?, ?step/s]"
      ]
     },
     "metadata": {},
     "output_type": "display_data"
    },
    {
     "name": "stdout",
     "output_type": "stream",
     "text": [
      "Compression ratio: 2.22\n",
      "Testing elf with Model: 0, EB: 0.01, CTX: 512, PDT: 4\n"
     ]
    },
    {
     "data": {
      "application/vnd.jupyter.widget-view+json": {
       "model_id": "c8dccb3c009c45d8ac48b8e8290bd547",
       "version_major": 2,
       "version_minor": 0
      },
      "text/plain": [
       "compress processing:   0%|          | 0/5320 [00:00<?, ?step/s]"
      ]
     },
     "metadata": {},
     "output_type": "display_data"
    },
    {
     "name": "stdout",
     "output_type": "stream",
     "text": [
      "Compression ratio: 2.19\n",
      "Testing elf with Model: 0, EB: 0.01, CTX: 512, PDT: 8\n"
     ]
    },
    {
     "data": {
      "application/vnd.jupyter.widget-view+json": {
       "model_id": "379c26fd85ee45b48cf3b7b49df68de0",
       "version_major": 2,
       "version_minor": 0
      },
      "text/plain": [
       "compress processing:   0%|          | 0/2660 [00:00<?, ?step/s]"
      ]
     },
     "metadata": {},
     "output_type": "display_data"
    },
    {
     "name": "stdout",
     "output_type": "stream",
     "text": [
      "Compression ratio: 2.17\n",
      "Testing elf with Model: 0, EB: 0.01, CTX: 512, PDT: 16\n"
     ]
    },
    {
     "data": {
      "application/vnd.jupyter.widget-view+json": {
       "model_id": "db47c2492cff487b9eea5b02d3680d23",
       "version_major": 2,
       "version_minor": 0
      },
      "text/plain": [
       "compress processing:   0%|          | 0/1330 [00:00<?, ?step/s]"
      ]
     },
     "metadata": {},
     "output_type": "display_data"
    },
    {
     "name": "stdout",
     "output_type": "stream",
     "text": [
      "Compression ratio: 2.14\n",
      "Testing elf with Model: 0, EB: 0.01, CTX: 512, PDT: 32\n"
     ]
    },
    {
     "data": {
      "application/vnd.jupyter.widget-view+json": {
       "model_id": "3aaedd84bb9741d7af7b9e4ffa0f7180",
       "version_major": 2,
       "version_minor": 0
      },
      "text/plain": [
       "compress processing:   0%|          | 0/665 [00:00<?, ?step/s]"
      ]
     },
     "metadata": {},
     "output_type": "display_data"
    },
    {
     "name": "stdout",
     "output_type": "stream",
     "text": [
      "Compression ratio: 2.12\n",
      "Testing elf with Model: 0, EB: 0.001, CTX: 16, PDT: 1\n"
     ]
    },
    {
     "data": {
      "application/vnd.jupyter.widget-view+json": {
       "model_id": "97bb7b95652341bea630faae572bac7d",
       "version_major": 2,
       "version_minor": 0
      },
      "text/plain": [
       "compress processing:   0%|          | 0/21776 [00:00<?, ?step/s]"
      ]
     },
     "metadata": {},
     "output_type": "display_data"
    },
    {
     "name": "stdout",
     "output_type": "stream",
     "text": [
      "Compression ratio: 1.74\n",
      "Testing elf with Model: 0, EB: 0.001, CTX: 16, PDT: 2\n"
     ]
    },
    {
     "data": {
      "application/vnd.jupyter.widget-view+json": {
       "model_id": "81484f38ba584c0095cf7c1fe15dc46b",
       "version_major": 2,
       "version_minor": 0
      },
      "text/plain": [
       "compress processing:   0%|          | 0/10888 [00:00<?, ?step/s]"
      ]
     },
     "metadata": {},
     "output_type": "display_data"
    },
    {
     "name": "stdout",
     "output_type": "stream",
     "text": [
      "Compression ratio: 1.63\n",
      "Testing elf with Model: 0, EB: 0.001, CTX: 16, PDT: 4\n"
     ]
    },
    {
     "data": {
      "application/vnd.jupyter.widget-view+json": {
       "model_id": "e1f5cc2e689b464a8b92df52de9ff557",
       "version_major": 2,
       "version_minor": 0
      },
      "text/plain": [
       "compress processing:   0%|          | 0/5444 [00:00<?, ?step/s]"
      ]
     },
     "metadata": {},
     "output_type": "display_data"
    },
    {
     "name": "stdout",
     "output_type": "stream",
     "text": [
      "Compression ratio: 1.53\n",
      "Testing elf with Model: 0, EB: 0.001, CTX: 16, PDT: 8\n"
     ]
    },
    {
     "data": {
      "application/vnd.jupyter.widget-view+json": {
       "model_id": "0b68acb5eeb2465aa5d25493888efb77",
       "version_major": 2,
       "version_minor": 0
      },
      "text/plain": [
       "compress processing:   0%|          | 0/2722 [00:00<?, ?step/s]"
      ]
     },
     "metadata": {},
     "output_type": "display_data"
    },
    {
     "name": "stdout",
     "output_type": "stream",
     "text": [
      "Compression ratio: 1.51\n",
      "Testing elf with Model: 0, EB: 0.001, CTX: 16, PDT: 16\n"
     ]
    },
    {
     "data": {
      "application/vnd.jupyter.widget-view+json": {
       "model_id": "640d01fb58d44c00b2becb96cc34404e",
       "version_major": 2,
       "version_minor": 0
      },
      "text/plain": [
       "compress processing:   0%|          | 0/1361 [00:00<?, ?step/s]"
      ]
     },
     "metadata": {},
     "output_type": "display_data"
    },
    {
     "name": "stdout",
     "output_type": "stream",
     "text": [
      "Compression ratio: 1.48\n",
      "Skipping: elf with PDT: 32 greater than CTX: 16\n",
      "Testing elf with Model: 0, EB: 0.001, CTX: 32, PDT: 1\n"
     ]
    },
    {
     "data": {
      "application/vnd.jupyter.widget-view+json": {
       "model_id": "f5c64f98cd294f96a790ff7ebe56e9a8",
       "version_major": 2,
       "version_minor": 0
      },
      "text/plain": [
       "compress processing:   0%|          | 0/21760 [00:00<?, ?step/s]"
      ]
     },
     "metadata": {},
     "output_type": "display_data"
    },
    {
     "name": "stdout",
     "output_type": "stream",
     "text": [
      "Compression ratio: 1.87\n",
      "Testing elf with Model: 0, EB: 0.001, CTX: 32, PDT: 2\n"
     ]
    },
    {
     "data": {
      "application/vnd.jupyter.widget-view+json": {
       "model_id": "39532934e0294e058dcfcd56077b06ae",
       "version_major": 2,
       "version_minor": 0
      },
      "text/plain": [
       "compress processing:   0%|          | 0/10880 [00:00<?, ?step/s]"
      ]
     },
     "metadata": {},
     "output_type": "display_data"
    },
    {
     "name": "stdout",
     "output_type": "stream",
     "text": [
      "Compression ratio: 1.81\n",
      "Testing elf with Model: 0, EB: 0.001, CTX: 32, PDT: 4\n"
     ]
    },
    {
     "data": {
      "application/vnd.jupyter.widget-view+json": {
       "model_id": "f40547a490cb42f595373f24670c9050",
       "version_major": 2,
       "version_minor": 0
      },
      "text/plain": [
       "compress processing:   0%|          | 0/5440 [00:00<?, ?step/s]"
      ]
     },
     "metadata": {},
     "output_type": "display_data"
    },
    {
     "name": "stdout",
     "output_type": "stream",
     "text": [
      "Compression ratio: 1.76\n",
      "Testing elf with Model: 0, EB: 0.001, CTX: 32, PDT: 8\n"
     ]
    },
    {
     "data": {
      "application/vnd.jupyter.widget-view+json": {
       "model_id": "b11d094225044a359e76d1e899438a6a",
       "version_major": 2,
       "version_minor": 0
      },
      "text/plain": [
       "compress processing:   0%|          | 0/2720 [00:00<?, ?step/s]"
      ]
     },
     "metadata": {},
     "output_type": "display_data"
    },
    {
     "name": "stdout",
     "output_type": "stream",
     "text": [
      "Compression ratio: 1.65\n",
      "Testing elf with Model: 0, EB: 0.001, CTX: 32, PDT: 16\n"
     ]
    },
    {
     "data": {
      "application/vnd.jupyter.widget-view+json": {
       "model_id": "2ae977e56db146fca20a4bca9db11373",
       "version_major": 2,
       "version_minor": 0
      },
      "text/plain": [
       "compress processing:   0%|          | 0/1360 [00:00<?, ?step/s]"
      ]
     },
     "metadata": {},
     "output_type": "display_data"
    },
    {
     "name": "stdout",
     "output_type": "stream",
     "text": [
      "Compression ratio: 1.65\n",
      "Testing elf with Model: 0, EB: 0.001, CTX: 32, PDT: 32\n"
     ]
    },
    {
     "data": {
      "application/vnd.jupyter.widget-view+json": {
       "model_id": "4fd893c25ccc4dac859a22ee91b9c117",
       "version_major": 2,
       "version_minor": 0
      },
      "text/plain": [
       "compress processing:   0%|          | 0/680 [00:00<?, ?step/s]"
      ]
     },
     "metadata": {},
     "output_type": "display_data"
    },
    {
     "name": "stdout",
     "output_type": "stream",
     "text": [
      "Compression ratio: 1.62\n",
      "Testing elf with Model: 0, EB: 0.001, CTX: 64, PDT: 1\n"
     ]
    },
    {
     "data": {
      "application/vnd.jupyter.widget-view+json": {
       "model_id": "589c153aefae4e30a5c01f9c18a31748",
       "version_major": 2,
       "version_minor": 0
      },
      "text/plain": [
       "compress processing:   0%|          | 0/21728 [00:00<?, ?step/s]"
      ]
     },
     "metadata": {},
     "output_type": "display_data"
    },
    {
     "name": "stdout",
     "output_type": "stream",
     "text": [
      "Compression ratio: 1.90\n",
      "Testing elf with Model: 0, EB: 0.001, CTX: 64, PDT: 2\n"
     ]
    },
    {
     "data": {
      "application/vnd.jupyter.widget-view+json": {
       "model_id": "a5846aef597f459595dd2a81c8c2ee0d",
       "version_major": 2,
       "version_minor": 0
      },
      "text/plain": [
       "compress processing:   0%|          | 0/10864 [00:00<?, ?step/s]"
      ]
     },
     "metadata": {},
     "output_type": "display_data"
    },
    {
     "name": "stdout",
     "output_type": "stream",
     "text": [
      "Compression ratio: 1.84\n",
      "Testing elf with Model: 0, EB: 0.001, CTX: 64, PDT: 4\n"
     ]
    },
    {
     "data": {
      "application/vnd.jupyter.widget-view+json": {
       "model_id": "60c532f4409f4b789b40c9baa4a16a9e",
       "version_major": 2,
       "version_minor": 0
      },
      "text/plain": [
       "compress processing:   0%|          | 0/5432 [00:00<?, ?step/s]"
      ]
     },
     "metadata": {},
     "output_type": "display_data"
    },
    {
     "name": "stdout",
     "output_type": "stream",
     "text": [
      "Compression ratio: 1.77\n",
      "Testing elf with Model: 0, EB: 0.001, CTX: 64, PDT: 8\n"
     ]
    },
    {
     "data": {
      "application/vnd.jupyter.widget-view+json": {
       "model_id": "cb6eafa23e204c148be119471f233c28",
       "version_major": 2,
       "version_minor": 0
      },
      "text/plain": [
       "compress processing:   0%|          | 0/2716 [00:00<?, ?step/s]"
      ]
     },
     "metadata": {},
     "output_type": "display_data"
    },
    {
     "name": "stdout",
     "output_type": "stream",
     "text": [
      "Compression ratio: 1.72\n",
      "Testing elf with Model: 0, EB: 0.001, CTX: 64, PDT: 16\n"
     ]
    },
    {
     "data": {
      "application/vnd.jupyter.widget-view+json": {
       "model_id": "29614fd1abd342b99aaea06fc5092f7c",
       "version_major": 2,
       "version_minor": 0
      },
      "text/plain": [
       "compress processing:   0%|          | 0/1358 [00:00<?, ?step/s]"
      ]
     },
     "metadata": {},
     "output_type": "display_data"
    },
    {
     "name": "stdout",
     "output_type": "stream",
     "text": [
      "Compression ratio: 1.67\n",
      "Testing elf with Model: 0, EB: 0.001, CTX: 64, PDT: 32\n"
     ]
    },
    {
     "data": {
      "application/vnd.jupyter.widget-view+json": {
       "model_id": "71fa537fcfc840e9a1d9868ccdd01792",
       "version_major": 2,
       "version_minor": 0
      },
      "text/plain": [
       "compress processing:   0%|          | 0/679 [00:00<?, ?step/s]"
      ]
     },
     "metadata": {},
     "output_type": "display_data"
    },
    {
     "name": "stdout",
     "output_type": "stream",
     "text": [
      "Compression ratio: 1.62\n",
      "Testing elf with Model: 0, EB: 0.001, CTX: 128, PDT: 1\n"
     ]
    },
    {
     "data": {
      "application/vnd.jupyter.widget-view+json": {
       "model_id": "488ccd5e94f24776939dceb6a901599a",
       "version_major": 2,
       "version_minor": 0
      },
      "text/plain": [
       "compress processing:   0%|          | 0/21664 [00:00<?, ?step/s]"
      ]
     },
     "metadata": {},
     "output_type": "display_data"
    },
    {
     "name": "stdout",
     "output_type": "stream",
     "text": [
      "Compression ratio: 1.92\n",
      "Testing elf with Model: 0, EB: 0.001, CTX: 128, PDT: 2\n"
     ]
    },
    {
     "data": {
      "application/vnd.jupyter.widget-view+json": {
       "model_id": "af3adafdab1f489291e3306297165ace",
       "version_major": 2,
       "version_minor": 0
      },
      "text/plain": [
       "compress processing:   0%|          | 0/10832 [00:00<?, ?step/s]"
      ]
     },
     "metadata": {},
     "output_type": "display_data"
    },
    {
     "name": "stdout",
     "output_type": "stream",
     "text": [
      "Compression ratio: 1.86\n",
      "Testing elf with Model: 0, EB: 0.001, CTX: 128, PDT: 4\n"
     ]
    },
    {
     "data": {
      "application/vnd.jupyter.widget-view+json": {
       "model_id": "5ca62f47cf954b66aa8f25221c55ff9e",
       "version_major": 2,
       "version_minor": 0
      },
      "text/plain": [
       "compress processing:   0%|          | 0/5416 [00:00<?, ?step/s]"
      ]
     },
     "metadata": {},
     "output_type": "display_data"
    },
    {
     "name": "stdout",
     "output_type": "stream",
     "text": [
      "Compression ratio: 1.80\n",
      "Testing elf with Model: 0, EB: 0.001, CTX: 128, PDT: 8\n"
     ]
    },
    {
     "data": {
      "application/vnd.jupyter.widget-view+json": {
       "model_id": "52297f001f3345579cfc57ecaf2615b9",
       "version_major": 2,
       "version_minor": 0
      },
      "text/plain": [
       "compress processing:   0%|          | 0/2708 [00:00<?, ?step/s]"
      ]
     },
     "metadata": {},
     "output_type": "display_data"
    },
    {
     "name": "stdout",
     "output_type": "stream",
     "text": [
      "Compression ratio: 1.74\n",
      "Testing elf with Model: 0, EB: 0.001, CTX: 128, PDT: 16\n"
     ]
    },
    {
     "data": {
      "application/vnd.jupyter.widget-view+json": {
       "model_id": "3ca5b889137e48ab82b48f8ffc2209f4",
       "version_major": 2,
       "version_minor": 0
      },
      "text/plain": [
       "compress processing:   0%|          | 0/1354 [00:00<?, ?step/s]"
      ]
     },
     "metadata": {},
     "output_type": "display_data"
    },
    {
     "name": "stdout",
     "output_type": "stream",
     "text": [
      "Compression ratio: 1.69\n",
      "Testing elf with Model: 0, EB: 0.001, CTX: 128, PDT: 32\n"
     ]
    },
    {
     "data": {
      "application/vnd.jupyter.widget-view+json": {
       "model_id": "498ad8b4907f4974bb25b3250df79fb3",
       "version_major": 2,
       "version_minor": 0
      },
      "text/plain": [
       "compress processing:   0%|          | 0/677 [00:00<?, ?step/s]"
      ]
     },
     "metadata": {},
     "output_type": "display_data"
    },
    {
     "name": "stdout",
     "output_type": "stream",
     "text": [
      "Compression ratio: 1.67\n",
      "Testing elf with Model: 0, EB: 0.001, CTX: 256, PDT: 1\n"
     ]
    },
    {
     "data": {
      "application/vnd.jupyter.widget-view+json": {
       "model_id": "827a2fdfd7ae4ece9a7a687474a1c5ea",
       "version_major": 2,
       "version_minor": 0
      },
      "text/plain": [
       "compress processing:   0%|          | 0/21536 [00:00<?, ?step/s]"
      ]
     },
     "metadata": {},
     "output_type": "display_data"
    },
    {
     "name": "stdout",
     "output_type": "stream",
     "text": [
      "Compression ratio: 1.94\n",
      "Testing elf with Model: 0, EB: 0.001, CTX: 256, PDT: 2\n"
     ]
    },
    {
     "data": {
      "application/vnd.jupyter.widget-view+json": {
       "model_id": "59f2bb783a474ba38eeebe24cf5865f3",
       "version_major": 2,
       "version_minor": 0
      },
      "text/plain": [
       "compress processing:   0%|          | 0/10768 [00:00<?, ?step/s]"
      ]
     },
     "metadata": {},
     "output_type": "display_data"
    },
    {
     "name": "stdout",
     "output_type": "stream",
     "text": [
      "Compression ratio: 1.90\n",
      "Testing elf with Model: 0, EB: 0.001, CTX: 256, PDT: 4\n"
     ]
    },
    {
     "data": {
      "application/vnd.jupyter.widget-view+json": {
       "model_id": "977a855b218b4fdeb4018006361c6cf9",
       "version_major": 2,
       "version_minor": 0
      },
      "text/plain": [
       "compress processing:   0%|          | 0/5384 [00:00<?, ?step/s]"
      ]
     },
     "metadata": {},
     "output_type": "display_data"
    },
    {
     "name": "stdout",
     "output_type": "stream",
     "text": [
      "Compression ratio: 1.85\n",
      "Testing elf with Model: 0, EB: 0.001, CTX: 256, PDT: 8\n"
     ]
    },
    {
     "data": {
      "application/vnd.jupyter.widget-view+json": {
       "model_id": "48b5828534304673909d033d548c7426",
       "version_major": 2,
       "version_minor": 0
      },
      "text/plain": [
       "compress processing:   0%|          | 0/2692 [00:00<?, ?step/s]"
      ]
     },
     "metadata": {},
     "output_type": "display_data"
    },
    {
     "name": "stdout",
     "output_type": "stream",
     "text": [
      "Compression ratio: 1.80\n",
      "Testing elf with Model: 0, EB: 0.001, CTX: 256, PDT: 16\n"
     ]
    },
    {
     "data": {
      "application/vnd.jupyter.widget-view+json": {
       "model_id": "7c4c720923ab4f4ca6e3ccc060aba7f2",
       "version_major": 2,
       "version_minor": 0
      },
      "text/plain": [
       "compress processing:   0%|          | 0/1346 [00:00<?, ?step/s]"
      ]
     },
     "metadata": {},
     "output_type": "display_data"
    },
    {
     "name": "stdout",
     "output_type": "stream",
     "text": [
      "Compression ratio: 1.74\n",
      "Testing elf with Model: 0, EB: 0.001, CTX: 256, PDT: 32\n"
     ]
    },
    {
     "data": {
      "application/vnd.jupyter.widget-view+json": {
       "model_id": "d96081e8a77042eba978a4a2724c2593",
       "version_major": 2,
       "version_minor": 0
      },
      "text/plain": [
       "compress processing:   0%|          | 0/673 [00:00<?, ?step/s]"
      ]
     },
     "metadata": {},
     "output_type": "display_data"
    },
    {
     "name": "stdout",
     "output_type": "stream",
     "text": [
      "Compression ratio: 1.72\n",
      "Testing elf with Model: 0, EB: 0.001, CTX: 512, PDT: 1\n"
     ]
    },
    {
     "data": {
      "application/vnd.jupyter.widget-view+json": {
       "model_id": "3c5190a211be406aa8454eddf05b35d4",
       "version_major": 2,
       "version_minor": 0
      },
      "text/plain": [
       "compress processing:   0%|          | 0/21280 [00:00<?, ?step/s]"
      ]
     },
     "metadata": {},
     "output_type": "display_data"
    },
    {
     "name": "stdout",
     "output_type": "stream",
     "text": [
      "Compression ratio: 1.93\n",
      "Testing elf with Model: 0, EB: 0.001, CTX: 512, PDT: 2\n"
     ]
    },
    {
     "data": {
      "application/vnd.jupyter.widget-view+json": {
       "model_id": "e056a477a412452d85c6b4cd2749e945",
       "version_major": 2,
       "version_minor": 0
      },
      "text/plain": [
       "compress processing:   0%|          | 0/10640 [00:00<?, ?step/s]"
      ]
     },
     "metadata": {},
     "output_type": "display_data"
    },
    {
     "name": "stdout",
     "output_type": "stream",
     "text": [
      "Compression ratio: 1.89\n",
      "Testing elf with Model: 0, EB: 0.001, CTX: 512, PDT: 4\n"
     ]
    },
    {
     "data": {
      "application/vnd.jupyter.widget-view+json": {
       "model_id": "567851c8d4864dcc8ccff8182959410d",
       "version_major": 2,
       "version_minor": 0
      },
      "text/plain": [
       "compress processing:   0%|          | 0/5320 [00:00<?, ?step/s]"
      ]
     },
     "metadata": {},
     "output_type": "display_data"
    },
    {
     "name": "stdout",
     "output_type": "stream",
     "text": [
      "Compression ratio: 1.85\n",
      "Testing elf with Model: 0, EB: 0.001, CTX: 512, PDT: 8\n"
     ]
    },
    {
     "data": {
      "application/vnd.jupyter.widget-view+json": {
       "model_id": "f09c17c8e80747f08df78c46bf0d3ef0",
       "version_major": 2,
       "version_minor": 0
      },
      "text/plain": [
       "compress processing:   0%|          | 0/2660 [00:00<?, ?step/s]"
      ]
     },
     "metadata": {},
     "output_type": "display_data"
    },
    {
     "name": "stdout",
     "output_type": "stream",
     "text": [
      "Compression ratio: 1.81\n",
      "Testing elf with Model: 0, EB: 0.001, CTX: 512, PDT: 16\n"
     ]
    },
    {
     "data": {
      "application/vnd.jupyter.widget-view+json": {
       "model_id": "d6f2fb30455244cfa68082b99199186b",
       "version_major": 2,
       "version_minor": 0
      },
      "text/plain": [
       "compress processing:   0%|          | 0/1330 [00:00<?, ?step/s]"
      ]
     },
     "metadata": {},
     "output_type": "display_data"
    },
    {
     "name": "stdout",
     "output_type": "stream",
     "text": [
      "Compression ratio: 1.75\n",
      "Testing elf with Model: 0, EB: 0.001, CTX: 512, PDT: 32\n"
     ]
    },
    {
     "data": {
      "application/vnd.jupyter.widget-view+json": {
       "model_id": "1afd65805e8b4d51baff18e9d16c6daf",
       "version_major": 2,
       "version_minor": 0
      },
      "text/plain": [
       "compress processing:   0%|          | 0/665 [00:00<?, ?step/s]"
      ]
     },
     "metadata": {},
     "output_type": "display_data"
    },
    {
     "name": "stdout",
     "output_type": "stream",
     "text": [
      "Compression ratio: 1.74\n",
      "Skipping: elf with EB: 0.0001 no greater than MCP limit (10^-4)\n",
      "Skipping: elf with EB: 1e-05 no greater than MCP limit (10^-4)\n",
      "Skipping: elf with EB: 1e-06 no greater than MCP limit (10^-4)\n",
      "All experiments are done and results are saved.\n"
     ]
    }
   ],
   "source": [
    "\n",
    "data_with_precision = [\n",
    "   #(\"london_smart_meters_with_missing\", 3),\n",
    "    (\"smart\", 7),\n",
    "    #(\"sceaux\", 7),\n",
    "    #(\"LOOP_SEATTLE\", 6),\n",
    "    #(\"oikolab_weather\", 7),\n",
    "    #(\"elecdemand\", 7),\n",
    "    #(\"traffic_hourly\", 4),\n",
    "    #(\"elf\", 4),\n",
    "    #(\"subseasonal_precip\", 6)\n",
    "]\n",
    "\n",
    "\n",
    "\n",
    "models = [0]\n",
    "# Create DP values from 0 to -6\n",
    "DP_values = list(range(-1, -7, -1))\n",
    "DP_values = [4]\n",
    "EB_values = [float(10**dp) for dp in DP_values]\n",
    "CTX_values = [16,32,64,128,256,512]\n",
    "PDT_values = [1,2,4,8,16,32]\n",
    "run_experiments(data_with_precision, models, EB_values, CTX_values, PDT_values, test_len=None, results_file_path=\"new_results.csv\",create_new_file=False)"
   ]
  },
  {
   "cell_type": "code",
   "execution_count": null,
   "id": "b6930086-ccf8-4ca2-a8ac-ea15e15bf2ce",
   "metadata": {},
   "outputs": [],
   "source": []
  }
 ],
 "metadata": {
  "kernelspec": {
   "display_name": "Python 3 (ipykernel)",
   "language": "python",
   "name": "python3"
  },
  "language_info": {
   "codemirror_mode": {
    "name": "ipython",
    "version": 3
   },
   "file_extension": ".py",
   "mimetype": "text/x-python",
   "name": "python",
   "nbconvert_exporter": "python",
   "pygments_lexer": "ipython3",
   "version": "3.11.9"
  }
 },
 "nbformat": 4,
 "nbformat_minor": 5
}
