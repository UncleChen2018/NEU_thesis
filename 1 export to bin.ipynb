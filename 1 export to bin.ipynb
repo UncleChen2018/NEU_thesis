{
 "cells": [
  {
   "cell_type": "code",
   "execution_count": 1,
   "id": "4d9070d2-4f0b-471d-bb58-ef6bd42960b7",
   "metadata": {},
   "outputs": [
    {
     "name": "stdout",
     "output_type": "stream",
     "text": [
      "Exported binary data to bin_data/LOOP_SEATTLE.bin\n",
      "Exported binary data to bin_data/elecdemand.bin\n",
      "Exported binary data to bin_data/elf.bin\n",
      "Exported binary data to bin_data/london_smart_meters_with_missing.bin\n",
      "Exported binary data to bin_data/sceaux.bin\n",
      "Exported binary data to bin_data/smart.bin\n",
      "Exported binary data to bin_data/subseasonal_precip.bin\n",
      "Exported binary data to bin_data/traffic_hourly.bin\n"
     ]
    }
   ],
   "source": [
    "import os\n",
    "import pandas as pd\n",
    "import numpy as np\n",
    "\n",
    "def csv_to_binary(source_dir, dest_dir):\n",
    "    # Ensure the destination directory exists\n",
    "    os.makedirs(dest_dir, exist_ok=True)\n",
    "\n",
    "    # Iterate over each file in the source directory\n",
    "    for filename in os.listdir(source_dir):\n",
    "        if filename.endswith(\".csv\"):\n",
    "            # Construct the full path to the source file\n",
    "            source_file_path = os.path.join(source_dir, filename)\n",
    "            # Read the CSV file into a DataFrame\n",
    "            df = pd.read_csv(source_file_path, header=None)\n",
    "            # Convert the DataFrame to a numpy array of type float32\n",
    "            data_array = df.to_numpy(dtype=np.float32)\n",
    "            \n",
    "            # Construct the destination file path, replacing .csv with .bin\n",
    "            dest_file_path = os.path.join(dest_dir, filename.replace('.csv', '.bin'))\n",
    "            # Write the array to a binary file\n",
    "            data_array.tofile(dest_file_path)\n",
    "\n",
    "            print(f\"Exported binary data to {dest_file_path}\")\n",
    "\n",
    "# Example usage:\n",
    "source_dir = 'experiment_export_data'  # Specify your source data directory containing CSV files\n",
    "dest_dir = 'bin_data'    # Specify your destination directory for binary files\n",
    "\n",
    "csv_to_binary(source_dir, dest_dir)\n"
   ]
  }
 ],
 "metadata": {
  "kernelspec": {
   "display_name": "Python 3 (ipykernel)",
   "language": "python",
   "name": "python3"
  },
  "language_info": {
   "codemirror_mode": {
    "name": "ipython",
    "version": 3
   },
   "file_extension": ".py",
   "mimetype": "text/x-python",
   "name": "python",
   "nbconvert_exporter": "python",
   "pygments_lexer": "ipython3",
   "version": "3.11.9"
  }
 },
 "nbformat": 4,
 "nbformat_minor": 5
}
