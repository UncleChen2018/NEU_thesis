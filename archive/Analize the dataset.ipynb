{
 "cells": [
  {
   "cell_type": "markdown",
   "id": "d9fd56fe-a3ba-48ac-9027-0691c9150df6",
   "metadata": {},
   "source": [
    "# Analyze the data"
   ]
  },
  {
   "cell_type": "code",
   "execution_count": 3,
   "id": "38ad9f3c-09cb-4d2f-9e29-042829623750",
   "metadata": {},
   "outputs": [],
   "source": [
    "import os\n",
    "import numpy as np\n",
    "import pandas as pd\n",
    "\n",
    "def read_and_analyze_data(directory='bin_data'):\n",
    "    # List all files in the directory\n",
    "    files = [f for f in os.listdir(directory) if os.path.isfile(os.path.join(directory, f))]\n",
    "\n",
    "    # Initialize a list to store the results\n",
    "    results = []\n",
    "\n",
    "    # Process each file\n",
    "    for file in files:\n",
    "        # Construct full file path\n",
    "        file_path = os.path.join(directory, file)\n",
    "        \n",
    "        # Load the data\n",
    "        data = np.fromfile(file_path, dtype=np.float32)\n",
    "\n",
    "        # Calculate statistics\n",
    "        data_range = np.ptp(data)  # Peak to peak (max - min) range\n",
    "        data_std = np.std(data)    # Standard deviation\n",
    "        file_size = os.path.getsize(file_path)  # File size in bytes\n",
    "\n",
    "        # Append results\n",
    "        results.append({\n",
    "            'Dataset Name': file,\n",
    "            'Range': data_range,\n",
    "            'Standard Deviation': data_std,\n",
    "            'File Size (bytes)': file_size\n",
    "        })\n",
    "\n",
    "    # Convert results to DataFrame\n",
    "    results_df = pd.DataFrame(results)\n",
    "\n",
    "    # Save results to CSV\n",
    "    results_df.to_csv('dataset_statistics.csv', index=False)\n",
    "\n",
    "    return results_df\n",
    "\n",
    "# Call the function\n",
    "data_statistics = read_and_analyze_data()\n"
   ]
  },
  {
   "cell_type": "code",
   "execution_count": null,
   "id": "763f0345-e59c-45c4-855b-a57a21265ebe",
   "metadata": {},
   "outputs": [],
   "source": []
  }
 ],
 "metadata": {
  "kernelspec": {
   "display_name": "Python 3 (ipykernel)",
   "language": "python",
   "name": "python3"
  },
  "language_info": {
   "codemirror_mode": {
    "name": "ipython",
    "version": 3
   },
   "file_extension": ".py",
   "mimetype": "text/x-python",
   "name": "python",
   "nbconvert_exporter": "python",
   "pygments_lexer": "ipython3",
   "version": "3.11.9"
  }
 },
 "nbformat": 4,
 "nbformat_minor": 5
}
